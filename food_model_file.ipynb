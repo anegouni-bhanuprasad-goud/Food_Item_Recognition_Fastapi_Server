{
 "cells": [
  {
   "cell_type": "code",
   "execution_count": 107,
   "id": "723378b0",
   "metadata": {},
   "outputs": [],
   "source": [
    "import os\n",
    "import numpy as np\n",
    "from PIL import Image\n",
    "import matplotlib.pyplot as plt\n",
    "import tensorflow as tf"
   ]
  },
  {
   "cell_type": "code",
   "execution_count": 108,
   "id": "3e98e189",
   "metadata": {},
   "outputs": [],
   "source": [
    "basepath = \"food-dataset\"\n",
    "dataset = [\"train\", \"test\", \"val\"]\n",
    "items = ['Biryani', 'Butter Naan', 'Chai', 'Chole Bhature', 'Dhokla', 'Gulab Jamun', 'Jalebi', 'Momos', 'Paneer Sabzi', 'Pav Bhaji', 'Rasgulla', 'Samosa']\n",
    "\n",
    "x , y = [] , []\n",
    "for data in dataset:\n",
    "    for index, item in enumerate(items):\n",
    "        path = os.path.join(basepath, data, item)\n",
    "        try:\n",
    "            for filename in os.listdir(path):\n",
    "                filepath = os.path.join(path, filename)\n",
    "                img = Image.open(filepath).convert(\"RGB\").resize([256,256])\n",
    "                img_array = np.array(img)\n",
    "                \n",
    "                x.append(img_array)\n",
    "                y.append(index)\n",
    "                    \n",
    "        except Exception as e:\n",
    "            print(f\"Error occurred: {e}\")\n"
   ]
  },
  {
   "cell_type": "code",
   "execution_count": 109,
   "id": "414974ed",
   "metadata": {},
   "outputs": [
    {
     "data": {
      "text/plain": [
       "((4379, 256, 256, 3), (4379,))"
      ]
     },
     "execution_count": 109,
     "metadata": {},
     "output_type": "execute_result"
    }
   ],
   "source": [
    "x = np.array(x, dtype=\"float32\").reshape(-1, 256, 256, 3)\n",
    "x = x / 255.0\n",
    "\n",
    "y = np.array(y, dtype=\"int32\")\n",
    "\n",
    "\n",
    "x.shape, y.shape"
   ]
  },
  {
   "cell_type": "code",
   "execution_count": 110,
   "id": "1f8cb7d2",
   "metadata": {},
   "outputs": [],
   "source": [
    "from sklearn.model_selection import train_test_split\n",
    "\n",
    "x_train, x_test, y_train, y_test = train_test_split(x, y, test_size=0.25, random_state=42)\n",
    "x_train, x_val, y_train, y_val = train_test_split(x_train, y_train, test_size=0.25, random_state=42)"
   ]
  },
  {
   "cell_type": "code",
   "execution_count": 111,
   "id": "b9f2ecf6",
   "metadata": {},
   "outputs": [
    {
     "name": "stdout",
     "output_type": "stream",
     "text": [
      "x_train shape: (2463, 256, 256, 3)\n",
      "y_train shape: (2463,)\n",
      "x_test shape: (1095, 256, 256, 3)\n",
      "y_test shape:  (1095,)\n",
      "x_val shape: (821, 256, 256, 3)\n",
      "y_val shape:  (821,)\n"
     ]
    }
   ],
   "source": [
    "print(\"x_train shape:\", x_train.shape)\n",
    "print(\"y_train shape:\", y_train.shape)\n",
    "print(\"x_test shape:\", x_test.shape)\n",
    "print(\"y_test shape: \", y_test.shape)\n",
    "print(\"x_val shape:\", x_val.shape)\n",
    "print(\"y_val shape: \", y_val.shape)"
   ]
  },
  {
   "cell_type": "code",
   "execution_count": 112,
   "id": "152c431b",
   "metadata": {},
   "outputs": [],
   "source": [
    "from keras.models import Sequential\n",
    "from keras.layers import Conv2D, MaxPooling2D, Flatten, Dropout, Dense , BatchNormalization, GlobalMaxPooling2D"
   ]
  },
  {
   "cell_type": "code",
   "execution_count": 113,
   "id": "42421ea5",
   "metadata": {},
   "outputs": [],
   "source": [
    "model = Sequential()\n",
    "\n",
    "model.add(Conv2D(64, (3, 3), activation='relu', input_shape=(256, 256, 3)))\n",
    "model.add(BatchNormalization())\n",
    "model.add(MaxPooling2D(2, 2))\n",
    "model.add(Dropout(0.3))\n",
    "\n",
    "model.add(Conv2D(128, (3, 3), activation='relu'))\n",
    "model.add(BatchNormalization())\n",
    "model.add(MaxPooling2D(2, 2))\n",
    "model.add(Dropout(0.3))\n",
    "\n",
    "model.add(Conv2D(256, (3, 3), activation='relu'))\n",
    "model.add(BatchNormalization())\n",
    "model.add(MaxPooling2D(2, 2))\n",
    "model.add(Dropout(0.4))\n",
    "\n",
    "model.add(GlobalMaxPooling2D())\n",
    "\n",
    "model.add(Dense(128, activation='relu'))\n",
    "model.add(Dropout(0.3))\n",
    "\n",
    "model.add(Dense(12, activation='softmax'))\n"
   ]
  },
  {
   "cell_type": "code",
   "execution_count": 114,
   "id": "c8ec1583",
   "metadata": {},
   "outputs": [
    {
     "name": "stdout",
     "output_type": "stream",
     "text": [
      "Model: \"sequential_8\"\n",
      "_________________________________________________________________\n",
      " Layer (type)                Output Shape              Param #   \n",
      "=================================================================\n",
      " conv2d_30 (Conv2D)          (None, 254, 254, 64)      1792      \n",
      "                                                                 \n",
      " batch_normalization_30 (Bat  (None, 254, 254, 64)     256       \n",
      " chNormalization)                                                \n",
      "                                                                 \n",
      " max_pooling2d_30 (MaxPoolin  (None, 127, 127, 64)     0         \n",
      " g2D)                                                            \n",
      "                                                                 \n",
      " dropout_48 (Dropout)        (None, 127, 127, 64)      0         \n",
      "                                                                 \n",
      " conv2d_31 (Conv2D)          (None, 125, 125, 128)     73856     \n",
      "                                                                 \n",
      " batch_normalization_31 (Bat  (None, 125, 125, 128)    512       \n",
      " chNormalization)                                                \n",
      "                                                                 \n",
      " max_pooling2d_31 (MaxPoolin  (None, 62, 62, 128)      0         \n",
      " g2D)                                                            \n",
      "                                                                 \n",
      " dropout_49 (Dropout)        (None, 62, 62, 128)       0         \n",
      "                                                                 \n",
      " conv2d_32 (Conv2D)          (None, 60, 60, 256)       295168    \n",
      "                                                                 \n",
      " batch_normalization_32 (Bat  (None, 60, 60, 256)      1024      \n",
      " chNormalization)                                                \n",
      "                                                                 \n",
      " max_pooling2d_32 (MaxPoolin  (None, 30, 30, 256)      0         \n",
      " g2D)                                                            \n",
      "                                                                 \n",
      " dropout_50 (Dropout)        (None, 30, 30, 256)       0         \n",
      "                                                                 \n",
      " global_max_pooling2d_8 (Glo  (None, 256)              0         \n",
      " balMaxPooling2D)                                                \n",
      "                                                                 \n",
      " dense_26 (Dense)            (None, 128)               32896     \n",
      "                                                                 \n",
      " dropout_51 (Dropout)        (None, 128)               0         \n",
      "                                                                 \n",
      " dense_27 (Dense)            (None, 12)                1548      \n",
      "                                                                 \n",
      "=================================================================\n",
      "Total params: 407,052\n",
      "Trainable params: 406,156\n",
      "Non-trainable params: 896\n",
      "_________________________________________________________________\n"
     ]
    }
   ],
   "source": [
    "model.summary()"
   ]
  },
  {
   "cell_type": "code",
   "execution_count": 115,
   "id": "d3141ad5",
   "metadata": {},
   "outputs": [],
   "source": [
    "model.compile(optimizer='adam', loss=\"sparse_categorical_crossentropy\", metrics=['accuracy'])"
   ]
  },
  {
   "cell_type": "code",
   "execution_count": 116,
   "id": "6979782f",
   "metadata": {},
   "outputs": [],
   "source": [
    "import tensorflow as tf\n",
    "\n",
    "with tf.device(\"CPU\"): # type: ignore\n",
    "    x_train = tf.convert_to_tensor(x_train)\n",
    "    y_train = tf.convert_to_tensor(y_train)\n",
    "    x_test = tf.convert_to_tensor(x_test)\n",
    "    y_test = tf.convert_to_tensor(y_test)\n",
    "    x_val = tf.convert_to_tensor(x_val)\n",
    "    y_val = tf.convert_to_tensor(y_val)"
   ]
  },
  {
   "cell_type": "code",
   "execution_count": 117,
   "id": "46ddb3b2",
   "metadata": {},
   "outputs": [],
   "source": [
    "from tensorflow.keras.callbacks import EarlyStopping # type: ignore\n",
    "\n",
    "early_stop = EarlyStopping(\n",
    "    monitor='val_loss',\n",
    "    patience=10,       \n",
    "    restore_best_weights=True\n",
    ")\n"
   ]
  },
  {
   "cell_type": "code",
   "execution_count": 123,
   "id": "c4134d5c",
   "metadata": {},
   "outputs": [],
   "source": [
    "from tensorflow.keras.callbacks import ReduceLROnPlateau # type: ignore\n",
    "\n",
    "lr_reduce = ReduceLROnPlateau(\n",
    "    monitor='val_loss',\n",
    "    factor=0.5,        \n",
    "    patience=5,        \n",
    "    verbose=1\n",
    ")\n"
   ]
  },
  {
   "cell_type": "code",
   "execution_count": 124,
   "id": "1109bd8c",
   "metadata": {},
   "outputs": [
    {
     "name": "stdout",
     "output_type": "stream",
     "text": [
      "Epoch 1/100\n",
      "308/308 [==============================] - 31s 101ms/step - loss: 2.7591 - accuracy: 0.1234 - val_loss: 2.4467 - val_accuracy: 0.1157 - lr: 0.0010\n",
      "Epoch 2/100\n",
      "308/308 [==============================] - 31s 100ms/step - loss: 2.3902 - accuracy: 0.1539 - val_loss: 2.3879 - val_accuracy: 0.1876 - lr: 0.0010\n",
      "Epoch 3/100\n",
      "308/308 [==============================] - 31s 100ms/step - loss: 2.3607 - accuracy: 0.1579 - val_loss: 2.3373 - val_accuracy: 0.1498 - lr: 0.0010\n",
      "Epoch 4/100\n",
      "308/308 [==============================] - 31s 100ms/step - loss: 2.3350 - accuracy: 0.1616 - val_loss: 2.3016 - val_accuracy: 0.2010 - lr: 0.0010\n",
      "Epoch 5/100\n",
      "308/308 [==============================] - 31s 100ms/step - loss: 2.3316 - accuracy: 0.1770 - val_loss: 2.2709 - val_accuracy: 0.2107 - lr: 0.0010\n",
      "Epoch 6/100\n",
      "308/308 [==============================] - 31s 100ms/step - loss: 2.2931 - accuracy: 0.1693 - val_loss: 2.3116 - val_accuracy: 0.1669 - lr: 0.0010\n",
      "Epoch 7/100\n",
      "308/308 [==============================] - 31s 100ms/step - loss: 2.2427 - accuracy: 0.1957 - val_loss: 2.2392 - val_accuracy: 0.2241 - lr: 0.0010\n",
      "Epoch 8/100\n",
      "308/308 [==============================] - 31s 101ms/step - loss: 2.2762 - accuracy: 0.1758 - val_loss: 2.2603 - val_accuracy: 0.2071 - lr: 0.0010\n",
      "Epoch 9/100\n",
      "308/308 [==============================] - 31s 101ms/step - loss: 2.2015 - accuracy: 0.2188 - val_loss: 2.0712 - val_accuracy: 0.3094 - lr: 0.0010\n",
      "Epoch 10/100\n",
      "308/308 [==============================] - 31s 100ms/step - loss: 2.1702 - accuracy: 0.2355 - val_loss: 2.3669 - val_accuracy: 0.1754 - lr: 0.0010\n",
      "Epoch 11/100\n",
      "308/308 [==============================] - 31s 100ms/step - loss: 2.1764 - accuracy: 0.2270 - val_loss: 2.0477 - val_accuracy: 0.3252 - lr: 0.0010\n",
      "Epoch 12/100\n",
      "308/308 [==============================] - 32s 102ms/step - loss: 2.1083 - accuracy: 0.2574 - val_loss: 2.0825 - val_accuracy: 0.2533 - lr: 0.0010\n",
      "Epoch 13/100\n",
      "308/308 [==============================] - 31s 100ms/step - loss: 2.0890 - accuracy: 0.2582 - val_loss: 2.0666 - val_accuracy: 0.2801 - lr: 0.0010\n",
      "Epoch 14/100\n",
      "308/308 [==============================] - 31s 100ms/step - loss: 2.0617 - accuracy: 0.2712 - val_loss: 2.1013 - val_accuracy: 0.3143 - lr: 0.0010\n",
      "Epoch 15/100\n",
      "308/308 [==============================] - 31s 99ms/step - loss: 2.0219 - accuracy: 0.2883 - val_loss: 2.1014 - val_accuracy: 0.3143 - lr: 0.0010\n",
      "Epoch 16/100\n",
      "308/308 [==============================] - 31s 100ms/step - loss: 2.0100 - accuracy: 0.2810 - val_loss: 1.9543 - val_accuracy: 0.3691 - lr: 0.0010\n",
      "Epoch 17/100\n",
      "308/308 [==============================] - 31s 100ms/step - loss: 2.0211 - accuracy: 0.2741 - val_loss: 2.0031 - val_accuracy: 0.3094 - lr: 0.0010\n",
      "Epoch 18/100\n",
      "308/308 [==============================] - 31s 100ms/step - loss: 1.9657 - accuracy: 0.2956 - val_loss: 2.0311 - val_accuracy: 0.2826 - lr: 0.0010\n",
      "Epoch 19/100\n",
      "308/308 [==============================] - 31s 100ms/step - loss: 1.9564 - accuracy: 0.2944 - val_loss: 1.9314 - val_accuracy: 0.3167 - lr: 0.0010\n",
      "Epoch 20/100\n",
      "308/308 [==============================] - 31s 99ms/step - loss: 1.9389 - accuracy: 0.2972 - val_loss: 1.8843 - val_accuracy: 0.3496 - lr: 0.0010\n",
      "Epoch 21/100\n",
      "308/308 [==============================] - 31s 99ms/step - loss: 1.9131 - accuracy: 0.3098 - val_loss: 1.9646 - val_accuracy: 0.3203 - lr: 0.0010\n",
      "Epoch 22/100\n",
      "308/308 [==============================] - 31s 99ms/step - loss: 1.8832 - accuracy: 0.3260 - val_loss: 1.9094 - val_accuracy: 0.3776 - lr: 0.0010\n",
      "Epoch 23/100\n",
      "308/308 [==============================] - 31s 99ms/step - loss: 1.9007 - accuracy: 0.3272 - val_loss: 1.8402 - val_accuracy: 0.4032 - lr: 0.0010\n",
      "Epoch 24/100\n",
      "308/308 [==============================] - 31s 100ms/step - loss: 1.8383 - accuracy: 0.3293 - val_loss: 1.8154 - val_accuracy: 0.4409 - lr: 0.0010\n",
      "Epoch 25/100\n",
      "308/308 [==============================] - 31s 100ms/step - loss: 1.8197 - accuracy: 0.3427 - val_loss: 1.7890 - val_accuracy: 0.4287 - lr: 0.0010\n",
      "Epoch 26/100\n",
      "308/308 [==============================] - 31s 100ms/step - loss: 1.7770 - accuracy: 0.3447 - val_loss: 1.7697 - val_accuracy: 0.3934 - lr: 0.0010\n",
      "Epoch 27/100\n",
      "308/308 [==============================] - 31s 100ms/step - loss: 1.7661 - accuracy: 0.3540 - val_loss: 1.7051 - val_accuracy: 0.4896 - lr: 0.0010\n",
      "Epoch 28/100\n",
      "308/308 [==============================] - 31s 100ms/step - loss: 1.7426 - accuracy: 0.3715 - val_loss: 1.8027 - val_accuracy: 0.3727 - lr: 0.0010\n",
      "Epoch 29/100\n",
      "308/308 [==============================] - 31s 100ms/step - loss: 1.7191 - accuracy: 0.3788 - val_loss: 1.7562 - val_accuracy: 0.4482 - lr: 0.0010\n",
      "Epoch 30/100\n",
      "308/308 [==============================] - 31s 100ms/step - loss: 1.7231 - accuracy: 0.3735 - val_loss: 1.6259 - val_accuracy: 0.4884 - lr: 0.0010\n",
      "Epoch 31/100\n",
      "308/308 [==============================] - 31s 100ms/step - loss: 1.6801 - accuracy: 0.3719 - val_loss: 1.5912 - val_accuracy: 0.4921 - lr: 0.0010\n",
      "Epoch 32/100\n",
      "308/308 [==============================] - 31s 100ms/step - loss: 1.6849 - accuracy: 0.3747 - val_loss: 1.6158 - val_accuracy: 0.5030 - lr: 0.0010\n",
      "Epoch 33/100\n",
      "308/308 [==============================] - 31s 100ms/step - loss: 1.6455 - accuracy: 0.3950 - val_loss: 1.5849 - val_accuracy: 0.5481 - lr: 0.0010\n",
      "Epoch 34/100\n",
      "308/308 [==============================] - 31s 101ms/step - loss: 1.6260 - accuracy: 0.3942 - val_loss: 1.5891 - val_accuracy: 0.5018 - lr: 0.0010\n",
      "Epoch 35/100\n",
      "308/308 [==============================] - 31s 100ms/step - loss: 1.6215 - accuracy: 0.4089 - val_loss: 1.5437 - val_accuracy: 0.5030 - lr: 0.0010\n",
      "Epoch 36/100\n",
      "308/308 [==============================] - 31s 100ms/step - loss: 1.6166 - accuracy: 0.4133 - val_loss: 1.5739 - val_accuracy: 0.5298 - lr: 0.0010\n",
      "Epoch 37/100\n",
      "308/308 [==============================] - 31s 100ms/step - loss: 1.5838 - accuracy: 0.4174 - val_loss: 1.5038 - val_accuracy: 0.5079 - lr: 0.0010\n",
      "Epoch 38/100\n",
      "308/308 [==============================] - 31s 100ms/step - loss: 1.5793 - accuracy: 0.4121 - val_loss: 1.5519 - val_accuracy: 0.4933 - lr: 0.0010\n",
      "Epoch 39/100\n",
      "308/308 [==============================] - 31s 100ms/step - loss: 1.5443 - accuracy: 0.4255 - val_loss: 1.5647 - val_accuracy: 0.4178 - lr: 0.0010\n",
      "Epoch 40/100\n",
      "308/308 [==============================] - 31s 100ms/step - loss: 1.5570 - accuracy: 0.4283 - val_loss: 1.5412 - val_accuracy: 0.5225 - lr: 0.0010\n",
      "Epoch 41/100\n",
      "308/308 [==============================] - 31s 100ms/step - loss: 1.5037 - accuracy: 0.4535 - val_loss: 1.5069 - val_accuracy: 0.5432 - lr: 0.0010\n",
      "Epoch 42/100\n",
      "308/308 [==============================] - 31s 100ms/step - loss: 1.5059 - accuracy: 0.4515 - val_loss: 1.4179 - val_accuracy: 0.5396 - lr: 0.0010\n",
      "Epoch 43/100\n",
      "308/308 [==============================] - 31s 100ms/step - loss: 1.5276 - accuracy: 0.4312 - val_loss: 1.5109 - val_accuracy: 0.5018 - lr: 0.0010\n",
      "Epoch 44/100\n",
      "308/308 [==============================] - 31s 100ms/step - loss: 1.4829 - accuracy: 0.4555 - val_loss: 1.3677 - val_accuracy: 0.5834 - lr: 0.0010\n",
      "Epoch 45/100\n",
      "308/308 [==============================] - 31s 100ms/step - loss: 1.4760 - accuracy: 0.4511 - val_loss: 1.4722 - val_accuracy: 0.4860 - lr: 0.0010\n",
      "Epoch 46/100\n",
      "308/308 [==============================] - 31s 100ms/step - loss: 1.4965 - accuracy: 0.4454 - val_loss: 1.4121 - val_accuracy: 0.5286 - lr: 0.0010\n",
      "Epoch 47/100\n",
      "308/308 [==============================] - 31s 100ms/step - loss: 1.4803 - accuracy: 0.4568 - val_loss: 1.5976 - val_accuracy: 0.4970 - lr: 0.0010\n",
      "Epoch 48/100\n",
      "308/308 [==============================] - 31s 100ms/step - loss: 1.4917 - accuracy: 0.4470 - val_loss: 1.5475 - val_accuracy: 0.5067 - lr: 0.0010\n",
      "Epoch 49/100\n",
      "308/308 [==============================] - ETA: 0s - loss: 1.4959 - accuracy: 0.4397\n",
      "Epoch 49: ReduceLROnPlateau reducing learning rate to 0.0005000000237487257.\n",
      "308/308 [==============================] - 31s 100ms/step - loss: 1.4959 - accuracy: 0.4397 - val_loss: 1.4062 - val_accuracy: 0.5883 - lr: 0.0010\n",
      "Epoch 50/100\n",
      "308/308 [==============================] - 31s 100ms/step - loss: 1.3648 - accuracy: 0.4892 - val_loss: 1.3394 - val_accuracy: 0.6212 - lr: 5.0000e-04\n",
      "Epoch 51/100\n",
      "308/308 [==============================] - 31s 100ms/step - loss: 1.3290 - accuracy: 0.5055 - val_loss: 1.3318 - val_accuracy: 0.5932 - lr: 5.0000e-04\n",
      "Epoch 52/100\n",
      "308/308 [==============================] - 31s 100ms/step - loss: 1.3235 - accuracy: 0.4937 - val_loss: 1.3247 - val_accuracy: 0.5883 - lr: 5.0000e-04\n",
      "Epoch 53/100\n",
      "308/308 [==============================] - 31s 100ms/step - loss: 1.3197 - accuracy: 0.5120 - val_loss: 1.3181 - val_accuracy: 0.6127 - lr: 5.0000e-04\n",
      "Epoch 54/100\n",
      "308/308 [==============================] - 31s 100ms/step - loss: 1.2942 - accuracy: 0.5160 - val_loss: 1.2614 - val_accuracy: 0.6297 - lr: 5.0000e-04\n",
      "Epoch 55/100\n",
      "308/308 [==============================] - 31s 100ms/step - loss: 1.3080 - accuracy: 0.5164 - val_loss: 1.2724 - val_accuracy: 0.6358 - lr: 5.0000e-04\n",
      "Epoch 56/100\n",
      "308/308 [==============================] - 31s 100ms/step - loss: 1.2851 - accuracy: 0.5059 - val_loss: 1.2403 - val_accuracy: 0.6114 - lr: 5.0000e-04\n",
      "Epoch 57/100\n",
      "308/308 [==============================] - 31s 100ms/step - loss: 1.2934 - accuracy: 0.5099 - val_loss: 1.2809 - val_accuracy: 0.6334 - lr: 5.0000e-04\n",
      "Epoch 58/100\n",
      "308/308 [==============================] - 31s 100ms/step - loss: 1.2232 - accuracy: 0.5339 - val_loss: 1.2532 - val_accuracy: 0.6382 - lr: 5.0000e-04\n",
      "Epoch 59/100\n",
      "308/308 [==============================] - 31s 100ms/step - loss: 1.2537 - accuracy: 0.5298 - val_loss: 1.2286 - val_accuracy: 0.6407 - lr: 5.0000e-04\n",
      "Epoch 60/100\n",
      "308/308 [==============================] - 31s 100ms/step - loss: 1.2359 - accuracy: 0.5355 - val_loss: 1.2439 - val_accuracy: 0.6419 - lr: 5.0000e-04\n",
      "Epoch 61/100\n",
      "308/308 [==============================] - 31s 100ms/step - loss: 1.2289 - accuracy: 0.5453 - val_loss: 1.2102 - val_accuracy: 0.6590 - lr: 5.0000e-04\n",
      "Epoch 62/100\n",
      "308/308 [==============================] - 31s 100ms/step - loss: 1.2139 - accuracy: 0.5371 - val_loss: 1.2822 - val_accuracy: 0.5981 - lr: 5.0000e-04\n",
      "Epoch 63/100\n",
      "308/308 [==============================] - 31s 100ms/step - loss: 1.1964 - accuracy: 0.5457 - val_loss: 1.2052 - val_accuracy: 0.6419 - lr: 5.0000e-04\n",
      "Epoch 64/100\n",
      "308/308 [==============================] - 31s 100ms/step - loss: 1.2413 - accuracy: 0.5388 - val_loss: 1.2111 - val_accuracy: 0.6224 - lr: 5.0000e-04\n",
      "Epoch 65/100\n",
      "308/308 [==============================] - 31s 100ms/step - loss: 1.2144 - accuracy: 0.5347 - val_loss: 1.2909 - val_accuracy: 0.5847 - lr: 5.0000e-04\n",
      "Epoch 66/100\n",
      "308/308 [==============================] - 31s 100ms/step - loss: 1.2104 - accuracy: 0.5481 - val_loss: 1.1314 - val_accuracy: 0.6736 - lr: 5.0000e-04\n",
      "Epoch 67/100\n",
      "308/308 [==============================] - 31s 100ms/step - loss: 1.1716 - accuracy: 0.5542 - val_loss: 1.2317 - val_accuracy: 0.6188 - lr: 5.0000e-04\n",
      "Epoch 68/100\n",
      "308/308 [==============================] - 31s 100ms/step - loss: 1.2004 - accuracy: 0.5514 - val_loss: 1.2330 - val_accuracy: 0.5981 - lr: 5.0000e-04\n",
      "Epoch 69/100\n",
      "308/308 [==============================] - 31s 100ms/step - loss: 1.1744 - accuracy: 0.5607 - val_loss: 1.2007 - val_accuracy: 0.6334 - lr: 5.0000e-04\n",
      "Epoch 70/100\n",
      "308/308 [==============================] - 31s 100ms/step - loss: 1.1920 - accuracy: 0.5432 - val_loss: 1.1198 - val_accuracy: 0.6748 - lr: 5.0000e-04\n",
      "Epoch 71/100\n",
      "308/308 [==============================] - 31s 100ms/step - loss: 1.1292 - accuracy: 0.5729 - val_loss: 1.1117 - val_accuracy: 0.6724 - lr: 5.0000e-04\n",
      "Epoch 72/100\n",
      "308/308 [==============================] - 31s 100ms/step - loss: 1.1464 - accuracy: 0.5534 - val_loss: 1.1149 - val_accuracy: 0.6736 - lr: 5.0000e-04\n",
      "Epoch 73/100\n",
      "308/308 [==============================] - 31s 100ms/step - loss: 1.1417 - accuracy: 0.5623 - val_loss: 1.1320 - val_accuracy: 0.6456 - lr: 5.0000e-04\n",
      "Epoch 74/100\n",
      "308/308 [==============================] - 31s 100ms/step - loss: 1.1351 - accuracy: 0.5639 - val_loss: 1.2025 - val_accuracy: 0.6419 - lr: 5.0000e-04\n",
      "Epoch 75/100\n",
      "308/308 [==============================] - 31s 100ms/step - loss: 1.1675 - accuracy: 0.5550 - val_loss: 1.2765 - val_accuracy: 0.5737 - lr: 5.0000e-04\n",
      "Epoch 76/100\n",
      "308/308 [==============================] - ETA: 0s - loss: 1.1357 - accuracy: 0.5753\n",
      "Epoch 76: ReduceLROnPlateau reducing learning rate to 0.0002500000118743628.\n",
      "308/308 [==============================] - 31s 100ms/step - loss: 1.1357 - accuracy: 0.5753 - val_loss: 1.1426 - val_accuracy: 0.6358 - lr: 5.0000e-04\n",
      "Epoch 77/100\n",
      "308/308 [==============================] - 31s 100ms/step - loss: 1.0921 - accuracy: 0.5883 - val_loss: 1.1154 - val_accuracy: 0.6724 - lr: 2.5000e-04\n",
      "Epoch 78/100\n",
      "308/308 [==============================] - 31s 100ms/step - loss: 1.0590 - accuracy: 0.6005 - val_loss: 1.1347 - val_accuracy: 0.6650 - lr: 2.5000e-04\n",
      "Epoch 79/100\n",
      "308/308 [==============================] - 31s 100ms/step - loss: 1.0592 - accuracy: 0.5997 - val_loss: 1.1163 - val_accuracy: 0.6894 - lr: 2.5000e-04\n",
      "Epoch 80/100\n",
      "308/308 [==============================] - 31s 100ms/step - loss: 1.0605 - accuracy: 0.6123 - val_loss: 1.0919 - val_accuracy: 0.6675 - lr: 2.5000e-04\n",
      "Epoch 81/100\n",
      "308/308 [==============================] - 31s 100ms/step - loss: 1.0332 - accuracy: 0.6050 - val_loss: 1.1258 - val_accuracy: 0.6565 - lr: 2.5000e-04\n",
      "Epoch 82/100\n",
      "308/308 [==============================] - 31s 102ms/step - loss: 1.0134 - accuracy: 0.6163 - val_loss: 1.0731 - val_accuracy: 0.6845 - lr: 2.5000e-04\n",
      "Epoch 83/100\n",
      "308/308 [==============================] - 31s 100ms/step - loss: 1.0497 - accuracy: 0.6041 - val_loss: 1.1544 - val_accuracy: 0.6516 - lr: 2.5000e-04\n",
      "Epoch 84/100\n",
      "308/308 [==============================] - 31s 100ms/step - loss: 1.0381 - accuracy: 0.6110 - val_loss: 1.0886 - val_accuracy: 0.6638 - lr: 2.5000e-04\n",
      "Epoch 85/100\n",
      "308/308 [==============================] - 31s 100ms/step - loss: 1.0433 - accuracy: 0.6127 - val_loss: 1.0926 - val_accuracy: 0.6663 - lr: 2.5000e-04\n",
      "Epoch 86/100\n",
      "308/308 [==============================] - 31s 100ms/step - loss: 1.0586 - accuracy: 0.5997 - val_loss: 1.1148 - val_accuracy: 0.6699 - lr: 2.5000e-04\n",
      "Epoch 87/100\n",
      "308/308 [==============================] - ETA: 0s - loss: 1.0509 - accuracy: 0.6119\n",
      "Epoch 87: ReduceLROnPlateau reducing learning rate to 0.0001250000059371814.\n",
      "308/308 [==============================] - 31s 100ms/step - loss: 1.0509 - accuracy: 0.6119 - val_loss: 1.0963 - val_accuracy: 0.6711 - lr: 2.5000e-04\n",
      "Epoch 88/100\n",
      "308/308 [==============================] - 31s 100ms/step - loss: 0.9836 - accuracy: 0.6378 - val_loss: 1.0745 - val_accuracy: 0.6833 - lr: 1.2500e-04\n",
      "Epoch 89/100\n",
      "308/308 [==============================] - 31s 100ms/step - loss: 1.0195 - accuracy: 0.6155 - val_loss: 1.0540 - val_accuracy: 0.6857 - lr: 1.2500e-04\n",
      "Epoch 90/100\n",
      "308/308 [==============================] - 31s 100ms/step - loss: 1.0042 - accuracy: 0.6196 - val_loss: 1.0539 - val_accuracy: 0.6906 - lr: 1.2500e-04\n",
      "Epoch 91/100\n",
      "308/308 [==============================] - 31s 100ms/step - loss: 1.0070 - accuracy: 0.6228 - val_loss: 1.0581 - val_accuracy: 0.6784 - lr: 1.2500e-04\n",
      "Epoch 92/100\n",
      "308/308 [==============================] - 31s 100ms/step - loss: 0.9918 - accuracy: 0.6273 - val_loss: 1.0607 - val_accuracy: 0.6784 - lr: 1.2500e-04\n",
      "Epoch 93/100\n",
      "308/308 [==============================] - 31s 100ms/step - loss: 0.9912 - accuracy: 0.6204 - val_loss: 1.0556 - val_accuracy: 0.6870 - lr: 1.2500e-04\n",
      "Epoch 94/100\n",
      "308/308 [==============================] - ETA: 0s - loss: 0.9782 - accuracy: 0.6334\n",
      "Epoch 94: ReduceLROnPlateau reducing learning rate to 6.25000029685907e-05.\n",
      "308/308 [==============================] - 31s 100ms/step - loss: 0.9782 - accuracy: 0.6334 - val_loss: 1.0668 - val_accuracy: 0.6809 - lr: 1.2500e-04\n",
      "Epoch 95/100\n",
      "308/308 [==============================] - 31s 100ms/step - loss: 0.9749 - accuracy: 0.6293 - val_loss: 1.0581 - val_accuracy: 0.6943 - lr: 6.2500e-05\n",
      "Epoch 96/100\n",
      "308/308 [==============================] - 31s 100ms/step - loss: 1.0071 - accuracy: 0.6192 - val_loss: 1.0482 - val_accuracy: 0.6943 - lr: 6.2500e-05\n",
      "Epoch 97/100\n",
      "308/308 [==============================] - 31s 100ms/step - loss: 0.9570 - accuracy: 0.6330 - val_loss: 1.0635 - val_accuracy: 0.6809 - lr: 6.2500e-05\n",
      "Epoch 98/100\n",
      "308/308 [==============================] - 31s 100ms/step - loss: 0.9856 - accuracy: 0.6338 - val_loss: 1.0477 - val_accuracy: 0.6870 - lr: 6.2500e-05\n",
      "Epoch 99/100\n",
      "308/308 [==============================] - 31s 100ms/step - loss: 0.9999 - accuracy: 0.6155 - val_loss: 1.0586 - val_accuracy: 0.6760 - lr: 6.2500e-05\n",
      "Epoch 100/100\n",
      "308/308 [==============================] - 31s 100ms/step - loss: 0.9744 - accuracy: 0.6395 - val_loss: 1.0587 - val_accuracy: 0.6894 - lr: 6.2500e-05\n"
     ]
    }
   ],
   "source": [
    "history = model.fit(\n",
    "    x_train, \n",
    "    y_train, \n",
    "    validation_data =   (x_val, y_val), \n",
    "    batch_size      =   8, \n",
    "    epochs          =   100, \n",
    "    callbacks       =   [early_stop, lr_reduce])"
   ]
  },
  {
   "cell_type": "code",
   "execution_count": 125,
   "id": "86c1ef1f",
   "metadata": {},
   "outputs": [
    {
     "data": {
      "image/png": "[encoded data removed]",
      "text/plain": [
       "<Figure size 1200x500 with 2 Axes>"
      ]
     },
     "metadata": {},
     "output_type": "display_data"
    }
   ],
   "source": [
    "loss = history.history['loss'] # type: ignore\n",
    "accuracy = history.history['accuracy'] # type: ignore\n",
    "val_loss = history.history.get('val_loss', None) # type: ignore\n",
    "val_accuracy = history.history.get('val_accuracy', None) # type: ignore\n",
    "epochs = range(1, len(loss) + 1)\n",
    "\n",
    "plt.figure(figsize=(12,5))\n",
    "plt.subplot(1, 2, 1)\n",
    "plt.plot(epochs, loss, 'bo-', label='Training Loss')\n",
    "if val_loss:\n",
    "    plt.plot(epochs, val_loss, 'ro-', label='Validation Loss')\n",
    "plt.title('Model Loss')\n",
    "plt.xlabel('Epochs')\n",
    "plt.ylabel('Loss')\n",
    "plt.legend()\n",
    "\n",
    "plt.subplot(1, 2, 2)\n",
    "plt.plot(epochs, accuracy, 'bo-', label='Training Accuracy')\n",
    "if val_accuracy:\n",
    "    plt.plot(epochs, val_accuracy, 'ro-', label='Validation Accuracy')\n",
    "plt.title('Model Accuracy')\n",
    "plt.xlabel('Epochs')\n",
    "plt.ylabel('Accuracy')\n",
    "plt.legend()\n",
    "\n",
    "plt.show()"
   ]
  },
  {
   "cell_type": "code",
   "execution_count": 126,
   "id": "95bc8754",
   "metadata": {},
   "outputs": [
    {
     "name": "stdout",
     "output_type": "stream",
     "text": [
      "137/137 [==============================] - 3s 19ms/step - loss: 1.0832 - accuracy: 0.6813\n",
      "Test Loss: 1.083168625831604,\n",
      " Test Accuracy: 0.6812785267829895\n"
     ]
    }
   ],
   "source": [
    "test_loss, test_accuracy = model.evaluate(x_test, y_test, batch_size=8)\n",
    "print(f\"Test Loss: {test_loss},\\n Test Accuracy: {test_accuracy}\")"
   ]
  },
  {
   "cell_type": "code",
   "execution_count": 127,
   "id": "5440d432",
   "metadata": {},
   "outputs": [],
   "source": [
    "model.save(\"food_model_68%.h5\")"
   ]
  },
  {
   "cell_type": "markdown",
   "id": "aef705ef",
   "metadata": {},
   "source": [
    "<===== TESTING =====> "
   ]
  },
  {
   "cell_type": "code",
   "execution_count": 2,
   "id": "2e80a083",
   "metadata": {},
   "outputs": [],
   "source": [
    "from tensorflow.keras.models import load_model # type: ignore\n",
    "from PIL import Image\n",
    "import numpy as np\n",
    "import os "
   ]
  },
  {
   "cell_type": "code",
   "execution_count": null,
   "id": "d7884308",
   "metadata": {},
   "outputs": [],
   "source": [
    "model = load_model(\"food_model_83%.h5\")"
   ]
  },
  {
   "cell_type": "code",
   "execution_count": 4,
   "id": "13bc73a6",
   "metadata": {},
   "outputs": [],
   "source": [
    "def predict(filepath : str):\n",
    "   img =  Image.open(filepath).convert(\"RGB\").resize([256,256])\n",
    "   img_array = np.array(img)\n",
    "   img_array = np.array(img_array / 255, dtype=\"float32\")\n",
    "   img_array = np.expand_dims(img_array, axis=0)\n",
    "\n",
    "   res =  model.predict(img_array)\n",
    "   predicted_class = np.argmax(res, axis=1)\n",
    "\n",
    "   items = ['Biryani', 'Butter Naan', 'Chai', 'Chole Bhature', 'Dhokla', 'Gulab Jamun', 'Jalebi', 'Momos', 'Paneer Sabzi', 'Pav Bhaji', 'Rasgulla', 'Samosa']\n",
    "   class_name = items[predicted_class[0]]\n",
    "\n",
    "   print(\"Predicted Class: \", predicted_class[0], \" ==> \", class_name)\n",
    "\n",
    "   return class_name"
   ]
  },
  {
   "cell_type": "code",
   "execution_count": null,
   "id": "70f7c9de",
   "metadata": {},
   "outputs": [],
   "source": [
    "while True:\n",
    "   path = input(\"Enter the filepath : \")\n",
    "   if os.path.exists(path):\n",
    "      pred = predict(path)\n",
    "      print(f\"Model predicted : {pred}\")\n",
    "   else:\n",
    "       print(\"File not found\")"
   ]
  }
 ],
 "metadata": {
  "kernelspec": {
   "display_name": "tensor",
   "language": "python",
   "name": "python3"
  },
  "language_info": {
   "codemirror_mode": {
    "name": "ipython",
    "version": 3
   },
   "file_extension": ".py",
   "mimetype": "text/x-python",
   "name": "python",
   "nbconvert_exporter": "python",
   "pygments_lexer": "ipython3",
   "version": "3.10.16"
  }
 },
 "nbformat": 4,
 "nbformat_minor": 5
}
